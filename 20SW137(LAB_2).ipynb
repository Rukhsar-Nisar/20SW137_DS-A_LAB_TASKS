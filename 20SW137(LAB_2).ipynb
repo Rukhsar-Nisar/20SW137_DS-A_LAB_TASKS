{
  "nbformat": 4,
  "nbformat_minor": 0,
  "metadata": {
    "colab": {
      "provenance": [],
      "authorship_tag": "ABX9TyP2QPL0qwbU1ys4AUNm3BD7",
      "include_colab_link": true
    },
    "kernelspec": {
      "name": "python3",
      "display_name": "Python 3"
    },
    "language_info": {
      "name": "python"
    }
  },
  "cells": [
    {
      "cell_type": "markdown",
      "metadata": {
        "id": "view-in-github",
        "colab_type": "text"
      },
      "source": [
        "<a href=\"https://colab.research.google.com/github/Rukhsar-Nisar/20SW137_DS-A_LAB_TASKS/blob/main/20SW137(LAB_2).ipynb\" target=\"_parent\"><img src=\"https://colab.research.google.com/assets/colab-badge.svg\" alt=\"Open In Colab\"/></a>"
      ]
    },
    {
      "cell_type": "code",
      "source": [
        "#TASK1\n",
        "#points = 174  # use this input to make your submission\n",
        "# write your if statement hereprint(result)\n",
        "prize = [\"wooden prize\", \"no prize\", \"water thin mint\", \"penguin\"]\n",
        "result = \"Sorry, you didn't win a prize this time.\"\n",
        "points = int(input(\"Enter points you scored: \"))\n",
        "\n",
        "if 1 <= points <= 50:\n",
        "    result = \"Congratulations! You won a {}\".format(prize[0])\n",
        "elif 51 <= points <= 150:\n",
        "    result = \"Oh dear, {} this time.\".format(prize[1])\n",
        "elif 151 <= points <= 180:\n",
        "    result = \"Congratulations! You won a {}\".format(prize[2])\n",
        "elif 181 <= points <= 200:\n",
        "    result = \"Congratulations! You won a {}\".format(prize[3])\n",
        "\n",
        "print(result)\n"
      ],
      "metadata": {
        "colab": {
          "base_uri": "https://localhost:8080/"
        },
        "id": "JNm26VyWQCjx",
        "outputId": "e06950f3-4d3a-4010-b143-66da200cd09e"
      },
      "execution_count": null,
      "outputs": [
        {
          "output_type": "stream",
          "name": "stdout",
          "text": [
            "Enter points you scored: 174\n",
            "Congratulations! You won a water thin mint\n"
          ]
        }
      ]
    },
    {
      "cell_type": "code",
      "source": [
        "#TASK2\n",
        "# '''# You decide you want to play a game where you are hiding # a number from someone.  Store this number in a variable\n",
        "# called 'answer'.  Another user provides a number called# 'guess'.  By comparing guess to answer, you inform the user\n",
        "# if their guess is too high or too low.\n",
        "answer = 7\n",
        "answerguess = int(input(\"Enter your guess number: \"))\n",
        "if answerguess > answer:\n",
        "        result = \"Oops! Your guess was too high.\"\n",
        "elif answerguess < answer:\n",
        "        result = \"Oops! Your guess was too low.\"\n",
        "elif answerguess == answer:\n",
        "        result = \"Nice! Your guess matched the answer!\"\n",
        "else:\n",
        "        result = \"Invalid input. Please enter a valid number.\"\n",
        "print(result)"
      ],
      "metadata": {
        "colab": {
          "base_uri": "https://localhost:8080/"
        },
        "id": "sRbSgojpSlwd",
        "outputId": "36b82ffe-0b5b-4f0d-adaf-0b23ff98a463"
      },
      "execution_count": null,
      "outputs": [
        {
          "output_type": "stream",
          "name": "stdout",
          "text": [
            "Enter your guess number: 4\n",
            "Oops! Your guess was too low.\n"
          ]
        }
      ]
    },
    {
      "cell_type": "code",
      "source": [
        "#Task#03\n",
        "#Tax PurchaseDepending on where an individual is fromwe need to tax them appropriately.\n",
        "#The states of CA, MN, and NY have taxes of 7.5%, 9.5%, and 8.9% respectively.\n",
        "#Use this information to take the amount of a purchase and the corresponding state to assure that they are taxed by the right amount.\n",
        "taxratio = {\n",
        "    \"CA\": 7.5 / 100,\n",
        "    \"MN\": 9.5 / 100,\n",
        "    \"NY\": 8.9 / 100\n",
        "}\n",
        "\n",
        "state = input(\"Enter state:\")\n",
        "purchase = int(input(\"Enter purchase:\"))\n",
        "\n",
        "if state in taxratio:\n",
        "    tax = purchase * taxratio[state]\n",
        "    total_amount = purchase + tax\n",
        "else:\n",
        "    tax = 0\n",
        "    total_amount = purchase\n",
        "\n",
        "print(\"Total amount =\", total_amount)"
      ],
      "metadata": {
        "colab": {
          "base_uri": "https://localhost:8080/"
        },
        "id": "UFFV4t5STH_9",
        "outputId": "665f1494-ccec-43c0-f85d-dcb577bf94e8"
      },
      "execution_count": null,
      "outputs": [
        {
          "output_type": "stream",
          "name": "stdout",
          "text": [
            "Enter state:NY\n",
            "Enter purchase:1000\n",
            "Total amount = 1089.0\n"
          ]
        }
      ]
    },
    {
      "cell_type": "code",
      "source": [
        "#TASK 9\n",
        "#Usezipto create a dictionarycastthat usesnamesas keys andheightsas values.\n",
        "cast_names = [\"Barney\", \"Robin\", \"Ted\", \"Lily\", \"Marshall\"]\n",
        "cast_heights = [72, 68, 72, 66, 76]\n",
        "cast = {name: height for name, height in zip(cast_names, cast_heights)}\n",
        "print(cast)"
      ],
      "metadata": {
        "colab": {
          "base_uri": "https://localhost:8080/"
        },
        "id": "7y74BdJgTmXQ",
        "outputId": "12e9b76d-e677-47a0-f4f3-5790e8b3c852"
      },
      "execution_count": null,
      "outputs": [
        {
          "output_type": "stream",
          "name": "stdout",
          "text": [
            "{'Barney': 72, 'Robin': 68, 'Ted': 72, 'Lily': 66, 'Marshall': 76}\n"
          ]
        }
      ]
    },
    {
      "cell_type": "code",
      "source": [
        "#Task#04\n",
        "#Use aforloopto take a list and print each element of the list in its own line.\n",
        "sentence = [\"the\", \"quick\", \"brown\", \"fox\", \"jumped\", \"over\", \"the\", \"lazy\", \"dog\"]\n",
        "for word in sentence:\n",
        "    print(word)"
      ],
      "metadata": {
        "colab": {
          "base_uri": "https://localhost:8080/"
        },
        "id": "4mj0PA-EUTOW",
        "outputId": "e4ba19b2-cc23-48a2-b7d2-1e2826b492b9"
      },
      "execution_count": null,
      "outputs": [
        {
          "output_type": "stream",
          "name": "stdout",
          "text": [
            "the\n",
            "quick\n",
            "brown\n",
            "fox\n",
            "jumped\n",
            "over\n",
            "the\n",
            "lazy\n",
            "dog\n"
          ]
        }
      ]
    },
    {
      "cell_type": "code",
      "source": [
        "#TASK#5\n",
        "#Multiples of 5Write aforloop below that will print out every whole number that is a multiple of 5 and less than or equal to 30.\n",
        "multiples_5 = []\n",
        "for i in range(1, 31):\n",
        "    if i % 5 == 0:\n",
        "        multiples_5.append(i)\n",
        "\n",
        "print(multiples_5)"
      ],
      "metadata": {
        "colab": {
          "base_uri": "https://localhost:8080/"
        },
        "id": "iQ2uDC80UklZ",
        "outputId": "0fd01900-853a-4bf7-a3a3-d142dfc62bf5"
      },
      "execution_count": null,
      "outputs": [
        {
          "output_type": "stream",
          "name": "stdout",
          "text": [
            "[5, 10, 15, 20, 25, 30]\n"
          ]
        }
      ]
    },
    {
      "cell_type": "code",
      "source": [
        "#Task#06\n",
        "#Extract First NamesUse a list comprehension to create a new listfirst_namescontaining just the first names innamesin lowercase.\n",
        "names = [\"Rick Sanchez\", \"Morty Smith\", \"Summer Smith\", \"Jerry Smith\", \"Beth Smith\"]\n",
        "first_names = []\n",
        "\n",
        "for name in names:\n",
        "    first_name = name.split()[0].lower()\n",
        "    first_names.append(first_name)\n",
        "\n",
        "print(first_names)"
      ],
      "metadata": {
        "colab": {
          "base_uri": "https://localhost:8080/"
        },
        "id": "ztEe_9s6U4TJ",
        "outputId": "bbf34274-f2fe-4ede-8216-216969c9ffe6"
      },
      "execution_count": null,
      "outputs": [
        {
          "output_type": "stream",
          "name": "stdout",
          "text": [
            "['rick', 'morty', 'summer', 'jerry', 'beth']\n"
          ]
        }
      ]
    },
    {
      "cell_type": "code",
      "source": [
        "#Task#07\n",
        "#Multiples of ThreeUse a list comprehension to create a listmultiples_3containing the first 20 multiples of 3.\n",
        "multiples_3 = []\n",
        "for i in range(1, 21):\n",
        "    multiples_3.append(i * 3)\n",
        "\n",
        "print(multiples_3)"
      ],
      "metadata": {
        "colab": {
          "base_uri": "https://localhost:8080/"
        },
        "id": "gK6Y19gCVQo-",
        "outputId": "74136644-58d2-45dd-ecc8-eba2aa21f833"
      },
      "execution_count": null,
      "outputs": [
        {
          "output_type": "stream",
          "name": "stdout",
          "text": [
            "[3, 6, 9, 12, 15, 18, 21, 24, 27, 30, 33, 36, 39, 42, 45, 48, 51, 54, 57, 60]\n"
          ]
        }
      ]
    },
    {
      "cell_type": "code",
      "source": [
        "#TASk8\n",
        "#Use a list comprehension to create a list of namespassedthat only include those that scored at least 65.\n",
        "scores = {\n",
        "    \"Rick Sanchez\": 70,\n",
        "    \"Morty Smith\": 35,\n",
        "    \"Summer Smith\": 82,\n",
        "    \"Jerry Smith\": 23,\n",
        "    \"Beth Smith\": 98\n",
        "}\n",
        "\n",
        "passed_Students = []\n",
        "for name, score in scores.items():\n",
        "    if score >= 65:\n",
        "        passed_Students.append(name)\n",
        "\n",
        "print(passed_Students)"
      ],
      "metadata": {
        "colab": {
          "base_uri": "https://localhost:8080/"
        },
        "id": "ZJ_sz46wVoOz",
        "outputId": "3d1c3f81-2113-4d44-f128-56960f2d23ca"
      },
      "execution_count": null,
      "outputs": [
        {
          "output_type": "stream",
          "name": "stdout",
          "text": [
            "['Rick Sanchez', 'Summer Smith', 'Beth Smith']\n"
          ]
        }
      ]
    },
    {
      "cell_type": "code",
      "source": [
        "#TASK 10\n",
        "#Useenumerateto modify thecastlist so that each element contains the name followed by the character's corresponding height.\n",
        "# For example, the first element ofcastshould change from\"BarneyStinson\"to\"BarneyStinson72\".\n",
        "cast = [\"Barney Stinson\", \"Robin Scherbatsky\", \"Ted Mosby\", \"Lily Aldrin\", \"Marshall Eriksen\"]\n",
        "heights = [72, 68, 72, 66, 76]\n",
        "\n",
        "for index, name in enumerate(cast):\n",
        "    cast[index] = name + str(heights[index])\n",
        "\n",
        "print(cast)\n"
      ],
      "metadata": {
        "colab": {
          "base_uri": "https://localhost:8080/"
        },
        "id": "QU9YA7_CV5LG",
        "outputId": "456da046-28bb-4b12-982b-c110d971b2af"
      },
      "execution_count": null,
      "outputs": [
        {
          "output_type": "stream",
          "name": "stdout",
          "text": [
            "['Barney Stinson72', 'Robin Scherbatsky68', 'Ted Mosby72', 'Lily Aldrin66', 'Marshall Eriksen76']\n"
          ]
        }
      ]
    }
  ]
}