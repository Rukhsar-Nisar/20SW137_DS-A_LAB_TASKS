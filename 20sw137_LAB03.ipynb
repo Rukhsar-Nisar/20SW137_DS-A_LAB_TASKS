{
  "nbformat": 4,
  "nbformat_minor": 0,
  "metadata": {
    "colab": {
      "provenance": [],
      "include_colab_link": true
    },
    "kernelspec": {
      "name": "python3",
      "display_name": "Python 3"
    },
    "language_info": {
      "name": "python"
    }
  },
  "cells": [
    {
      "cell_type": "markdown",
      "metadata": {
        "id": "view-in-github",
        "colab_type": "text"
      },
      "source": [
        "<a href=\"https://colab.research.google.com/github/Rukhsar-Nisar/20SW137_DS-A_LAB_TASKS/blob/main/20sw137_LAB03.ipynb\" target=\"_parent\"><img src=\"https://colab.research.google.com/assets/colab-badge.svg\" alt=\"Open In Colab\"/></a>"
      ]
    },
    {
      "cell_type": "code",
      "execution_count": 5,
      "metadata": {
        "colab": {
          "base_uri": "https://localhost:8080/"
        },
        "id": "CZ-ZHLiUveMC",
        "outputId": "f1bb90d7-a870-42c0-cb1f-4468354d058b"
      },
      "outputs": [
        {
          "output_type": "stream",
          "name": "stdout",
          "text": [
            "expected result: 10, actual result: 10.0\n",
            "expected result: 7123.6902801, actual result: 7123.690280065897\n"
          ]
        }
      ],
      "source": [
        "#TASK_1\n",
        "def population_density(population, land_area):\n",
        "    density = population / land_area\n",
        "    return density\n",
        "\n",
        "test1 = population_density(10, 1)\n",
        "expected_result1 = 10\n",
        "print(\"expected result: {}, actual result: {}\".format(expected_result1, test1))\n",
        "\n",
        "test2 = population_density(864816, 121.4)\n",
        "expected_result2 = 7123.6902801\n",
        "print(\"expected result: {}, actual result: {}\".format(expected_result2, test2))"
      ]
    },
    {
      "cell_type": "code",
      "source": [
        "#TASK_2\n",
        "def readable_timedelta(days):\n",
        "    weeks = days // 7\n",
        "    remaining_days = days % 7\n",
        "    result = \"\"\n",
        "\n",
        "    if weeks > 0:\n",
        "        result += \"{} week(s)\".format(weeks)\n",
        "        if remaining_days > 0:\n",
        "            result += \" and \"\n",
        "    if remaining_days > 0:\n",
        "        result += \"{} day(s)\".format(remaining_days)\n",
        "\n",
        "    return result\n",
        "\n",
        "print(readable_timedelta(10))\n"
      ],
      "metadata": {
        "colab": {
          "base_uri": "https://localhost:8080/"
        },
        "id": "lPI7hCvJwe-x",
        "outputId": "c20781db-0193-4714-aaa5-f1db5292bcf4"
      },
      "execution_count": 2,
      "outputs": [
        {
          "output_type": "stream",
          "name": "stdout",
          "text": [
            "1 week(s) and 3 day(s)\n"
          ]
        }
      ]
    },
    {
      "cell_type": "code",
      "source": [
        "#TASK_3\n",
        "numbers = [[1, 2, 3], [4, 5, 6], [7, 8, 9]]\n",
        "\n",
        "# Using map() with lambda to calculate the mean of each list in numbers\n",
        "averages = list(map(lambda lst: sum(lst) / len(lst), numbers))\n",
        "\n",
        "print(averages)"
      ],
      "metadata": {
        "colab": {
          "base_uri": "https://localhost:8080/"
        },
        "id": "tsqwvH5yxXRp",
        "outputId": "3fb70d32-9bf8-4e76-8660-a7d168e1c3af"
      },
      "execution_count": null,
      "outputs": [
        {
          "output_type": "stream",
          "name": "stdout",
          "text": [
            "[2.0, 5.0, 8.0]\n"
          ]
        }
      ]
    },
    {
      "cell_type": "code",
      "source": [
        "#TASK_4\n",
        "numbers = [[34, 63, 88, 71, 29],[90, 78, 51, 27, 45],[63, 37, 85, 46, 22],[51, 22, 34, 11, 18]]\n",
        "#def mean(num_list):\n",
        "mean =lambda num_list:sum(num_list) / len(num_list)\n",
        "averages = list(map(mean, numbers))\n",
        "print(averages)"
      ],
      "metadata": {
        "colab": {
          "base_uri": "https://localhost:8080/"
        },
        "id": "FxeaySn3yaYL",
        "outputId": "936fa4b3-0909-4579-bcc9-cda75b5a0195"
      },
      "execution_count": null,
      "outputs": [
        {
          "output_type": "stream",
          "name": "stdout",
          "text": [
            "[57.0, 58.2, 50.6, 27.2]\n"
          ]
        }
      ]
    },
    {
      "cell_type": "code",
      "source": [
        "#TASK_5\n",
        "cities = [\"New York City\", \"Los Angeles\", \"Chicago\", \"Mountain View\", \"Denver\", \"Boston\"]\n",
        "is_short= lambda name: len(name) < 10\n",
        "short_cities = list(filter(is_short, cities))\n",
        "print(short_cities)"
      ],
      "metadata": {
        "colab": {
          "base_uri": "https://localhost:8080/"
        },
        "id": "pF8eNvNcz5-1",
        "outputId": "f9fb7a99-dee4-4834-92b0-ea2dc94a77dc"
      },
      "execution_count": null,
      "outputs": [
        {
          "output_type": "stream",
          "name": "stdout",
          "text": [
            "['Chicago', 'Denver', 'Boston']\n"
          ]
        }
      ]
    },
    {
      "cell_type": "code",
      "source": [
        "#TASK_6\n",
        "# Get and process input for a list of names\n",
        "names_input = input(\"Enter a list of names separated by commas: \")\n",
        "names = names_input.split(',')\n",
        "\n",
        "# Get and process input for a list of the number of assignments\n",
        "assignments_input = input(\"Enter a list of the number of missing assignments separated by commas: \")\n",
        "assignments = list(map(int, assignments_input.split(',')))\n",
        "\n",
        "# Get and process input for a list of grades\n",
        "grades_input = input(\"Enter a list of grades separated by commas: \")\n",
        "grades = list(map(float, grades_input.split(',')))\n",
        "\n",
        "# Message string to be used for each student\n",
        "# HINT: use .format() with this string in your for loop\n",
        "message = \"Hi {},\\n\\nThis is a reminder that you have {} assignments left to submit before you can graduate. Your current grade is {} and can increase to {} if you submit all assignments before the due date.\\n\\n\"\n",
        "\n",
        "# Write a for loop that iterates through each set of names, assignments, and grades to print each student's message\n",
        "for name, assignment_count, grade in zip(names, assignments, grades):\n",
        "    potential_grade = grade + 2 * assignment_count\n",
        "    print(message.format(name, assignment_count, grade, potential_grade))"
      ],
      "metadata": {
        "id": "bnusV1Fj1KCf",
        "colab": {
          "base_uri": "https://localhost:8080/"
        },
        "outputId": "070af0f5-c1a5-405b-fd4c-6f8ba54ab2c2"
      },
      "execution_count": 1,
      "outputs": [
        {
          "output_type": "stream",
          "name": "stdout",
          "text": [
            "Enter a list of names separated by commas: John, Emma, Michael, Sophia, William\n",
            "Enter a list of the number of missing assignments separated by commas: 2, 1, 0, 3, 2\n",
            "Enter a list of grades separated by commas: 85, 92, 78, 88, 95\n",
            "Hi John,\n",
            "\n",
            "This is a reminder that you have 2 assignments left to submit before you can graduate. Your current grade is 85.0 and can increase to 89.0 if you submit all assignments before the due date.\n",
            "\n",
            "\n",
            "Hi  Emma,\n",
            "\n",
            "This is a reminder that you have 1 assignments left to submit before you can graduate. Your current grade is 92.0 and can increase to 94.0 if you submit all assignments before the due date.\n",
            "\n",
            "\n",
            "Hi  Michael,\n",
            "\n",
            "This is a reminder that you have 0 assignments left to submit before you can graduate. Your current grade is 78.0 and can increase to 78.0 if you submit all assignments before the due date.\n",
            "\n",
            "\n",
            "Hi  Sophia,\n",
            "\n",
            "This is a reminder that you have 3 assignments left to submit before you can graduate. Your current grade is 88.0 and can increase to 94.0 if you submit all assignments before the due date.\n",
            "\n",
            "\n",
            "Hi  William,\n",
            "\n",
            "This is a reminder that you have 2 assignments left to submit before you can graduate. Your current grade is 95.0 and can increase to 99.0 if you submit all assignments before the due date.\n",
            "\n",
            "\n"
          ]
        }
      ]
    },
    {
      "cell_type": "code",
      "source": [
        "#TASK_7\n",
        "file_content = \"\"\"We're the knights of the round table\n",
        "We dance whenever we're able\"\"\"\n",
        "with open(\"camelot.txt\", \"w\") as f:\n",
        "    f.write(file_content)\n",
        "\n",
        "# Opening the file in read mode\n",
        "with open(\"camelot.txt\", \"r\") as f:\n",
        "    # Reading the first 10 characters\n",
        "    first_10_chars = f.read(10)\n",
        "    print(\"First 10 characters:\")\n",
        "    print(first_10_chars)\n",
        "\n",
        "    # Reading the next 15 characters from the current position\n",
        "    next_15_chars = f.read(15)\n",
        "    print(\"\\nNext 15 characters:\")\n",
        "    print(next_15_chars)\n",
        "\n",
        "    # Reading the remaining content of the file from the current position\n",
        "    rest_of_the_file = f.read()\n",
        "    print(\"\\nRest of the file:\")\n",
        "    print(rest_of_the_file)"
      ],
      "metadata": {
        "id": "LCe5e6EJBkTT",
        "colab": {
          "base_uri": "https://localhost:8080/"
        },
        "outputId": "43b47ba9-bbc2-4688-96ef-a1219b3a1369"
      },
      "execution_count": 6,
      "outputs": [
        {
          "output_type": "stream",
          "name": "stdout",
          "text": [
            "First 10 characters:\n",
            "We're the \n",
            "\n",
            "Next 15 characters:\n",
            "knights of the \n",
            "\n",
            "Rest of the file:\n",
            "round table\n",
            "We dance whenever we're able\n"
          ]
        }
      ]
    }
  ]
}