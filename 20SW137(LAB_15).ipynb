{
  "nbformat": 4,
  "nbformat_minor": 0,
  "metadata": {
    "colab": {
      "provenance": [],
      "authorship_tag": "ABX9TyPGGRmd7Dfakijph3/RJQyV",
      "include_colab_link": true
    },
    "kernelspec": {
      "name": "python3",
      "display_name": "Python 3"
    },
    "language_info": {
      "name": "python"
    }
  },
  "cells": [
    {
      "cell_type": "markdown",
      "metadata": {
        "id": "view-in-github",
        "colab_type": "text"
      },
      "source": [
        "<a href=\"https://colab.research.google.com/github/Rukhsar-Nisar/20SW137_DS-A_LAB_TASKS/blob/main/20SW137(LAB_15).ipynb\" target=\"_parent\"><img src=\"https://colab.research.google.com/assets/colab-badge.svg\" alt=\"Open In Colab\"/></a>"
      ]
    },
    {
      "cell_type": "markdown",
      "source": [
        "#**Choose a Domain:**\n",
        "# Domain: Movies and TV Shows on Netflix."
      ],
      "metadata": {
        "id": "sacltLI-Kg09"
      }
    },
    {
      "cell_type": "markdown",
      "source": [
        "# **Dataset Selection:**"
      ],
      "metadata": {
        "id": "THtfmWrkK8-R"
      }
    },
    {
      "cell_type": "code",
      "execution_count": 3,
      "metadata": {
        "id": "GKLl_97YKFOT"
      },
      "outputs": [],
      "source": [
        "import pandas as pd\n",
        "\n",
        "# Load the Netflix dataset\n",
        "netflix_data = pd.read_csv('netflix_titles.csv')"
      ]
    },
    {
      "cell_type": "markdown",
      "source": [
        "# **Data Exploration:**"
      ],
      "metadata": {
        "id": "1Ouj4ECkLC_l"
      }
    },
    {
      "cell_type": "code",
      "source": [
        "# Display basic information about the dataset\n",
        "print(netflix_data.info())\n",
        "\n",
        "# Check for missing values\n",
        "print(netflix_data.isnull().sum())"
      ],
      "metadata": {
        "colab": {
          "base_uri": "https://localhost:8080/"
        },
        "id": "yM0_Ihx-LH0Z",
        "outputId": "7c882dfa-b565-4e66-e39b-507575280b13"
      },
      "execution_count": 4,
      "outputs": [
        {
          "output_type": "stream",
          "name": "stdout",
          "text": [
            "<class 'pandas.core.frame.DataFrame'>\n",
            "RangeIndex: 8807 entries, 0 to 8806\n",
            "Data columns (total 12 columns):\n",
            " #   Column        Non-Null Count  Dtype \n",
            "---  ------        --------------  ----- \n",
            " 0   show_id       8807 non-null   object\n",
            " 1   type          8807 non-null   object\n",
            " 2   title         8807 non-null   object\n",
            " 3   director      6173 non-null   object\n",
            " 4   cast          7982 non-null   object\n",
            " 5   country       7976 non-null   object\n",
            " 6   date_added    8797 non-null   object\n",
            " 7   release_year  8807 non-null   int64 \n",
            " 8   rating        8803 non-null   object\n",
            " 9   duration      8804 non-null   object\n",
            " 10  listed_in     8807 non-null   object\n",
            " 11  description   8807 non-null   object\n",
            "dtypes: int64(1), object(11)\n",
            "memory usage: 825.8+ KB\n",
            "None\n",
            "show_id            0\n",
            "type               0\n",
            "title              0\n",
            "director        2634\n",
            "cast             825\n",
            "country          831\n",
            "date_added        10\n",
            "release_year       0\n",
            "rating             4\n",
            "duration           3\n",
            "listed_in          0\n",
            "description        0\n",
            "dtype: int64\n"
          ]
        }
      ]
    },
    {
      "cell_type": "markdown",
      "source": [
        "# **Collaborative Filtering Implementation (Content-Based):**"
      ],
      "metadata": {
        "id": "NWyLSoMlLOv7"
      }
    },
    {
      "cell_type": "code",
      "source": [
        "from sklearn.feature_extraction.text import TfidfVectorizer\n",
        "from sklearn.metrics.pairwise import linear_kernel\n",
        "\n",
        "# TF-IDF vectorization\n",
        "tfidf_vectorizer = TfidfVectorizer(stop_words='english')\n",
        "tfidf_matrix = tfidf_vectorizer.fit_transform(netflix_data['description'].fillna(''))"
      ],
      "metadata": {
        "id": "HeChQT3BLRhu"
      },
      "execution_count": 5,
      "outputs": []
    },
    {
      "cell_type": "markdown",
      "source": [
        "# **5. Model Training:**\n",
        "# Not applicable for content-based recommendation.\n",
        "\n",
        "\n",
        "# **Evaluation**:\n",
        "# Not applicable for content-based recommendation."
      ],
      "metadata": {
        "id": "-PReZv_kLZkZ"
      }
    },
    {
      "cell_type": "markdown",
      "source": [
        "# **Recommendations Generation:**"
      ],
      "metadata": {
        "id": "cVyFTe8QLnEO"
      }
    },
    {
      "cell_type": "code",
      "source": [
        "def generate_recommendations(title, data, vectorizer, tfidf_matrix, top_n=10):\n",
        "    # Find the index of the given title\n",
        "    index = data[data['title'] == title].index[0]\n",
        "\n",
        "    # Calculate the cosine similarity between the given title and all titles\n",
        "    cosine_similarities = linear_kernel(tfidf_matrix[index], tfidf_matrix).flatten()\n",
        "\n",
        "    # Get indices of top N similar titles\n",
        "    similar_indices = cosine_similarities.argsort()[:-top_n-1:-1]\n",
        "\n",
        "    # Return the top N recommended titles\n",
        "    recommended_titles = data['title'].iloc[similar_indices].tolist()\n",
        "    return recommended_titles"
      ],
      "metadata": {
        "id": "143OGd1RLz7E"
      },
      "execution_count": 6,
      "outputs": []
    },
    {
      "cell_type": "code",
      "source": [
        "# Example usage\n",
        "title_to_recommend = \"The Matrix\"\n",
        "recommendations = generate_recommendations(title_to_recommend, netflix_data, tfidf_vectorizer, tfidf_matrix)\n",
        "print(f\"Top 10 recommendations for '{title_to_recommend}': {recommendations}\")"
      ],
      "metadata": {
        "colab": {
          "base_uri": "https://localhost:8080/"
        },
        "id": "tdzlnIv8MHL6",
        "outputId": "c5a63790-e86f-4a80-df78-9191c3808480"
      },
      "execution_count": 7,
      "outputs": [
        {
          "output_type": "stream",
          "name": "stdout",
          "text": [
            "Top 10 recommendations for 'The Matrix': ['The Matrix', 'The Girl with the Dragon Tattoo', 'Power Rangers Beast Morphers', '9', 'Shakti: The Power', 'Sextuplets', 'Haunted', 'Time Please', 'Arès', 'She-Ra and the Princesses of Power']\n"
          ]
        }
      ]
    }
  ]
}