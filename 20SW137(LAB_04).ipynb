{
  "nbformat": 4,
  "nbformat_minor": 0,
  "metadata": {
    "colab": {
      "provenance": [],
      "authorship_tag": "ABX9TyNMJ//H0lDWexfyF3J1ba3D",
      "include_colab_link": true
    },
    "kernelspec": {
      "name": "python3",
      "display_name": "Python 3"
    },
    "language_info": {
      "name": "python"
    }
  },
  "cells": [
    {
      "cell_type": "markdown",
      "metadata": {
        "id": "view-in-github",
        "colab_type": "text"
      },
      "source": [
        "<a href=\"https://colab.research.google.com/github/Rukhsar-Nisar/20SW137_DS-A_LAB_TASKS/blob/main/20SW137(LAB_04).ipynb\" target=\"_parent\"><img src=\"https://colab.research.google.com/assets/colab-badge.svg\" alt=\"Open In Colab\"/></a>"
      ]
    },
    {
      "cell_type": "code",
      "execution_count": 5,
      "metadata": {
        "colab": {
          "base_uri": "https://localhost:8080/"
        },
        "id": "2_bwRsA0zltn",
        "outputId": "dd4172ed-c23d-4492-a876-760cac56e985"
      },
      "outputs": [
        {
          "output_type": "stream",
          "name": "stdout",
          "text": [
            "[[ 2  4  6  8]\n",
            " [10 12 14 16]\n",
            " [18 20 22 24]\n",
            " [26 28 30 32]]\n"
          ]
        }
      ],
      "source": [
        "#Task_01\n",
        "import numpy as np\n",
        "Even_Numbers = np.arange(2, 33, 2)\n",
        "Y = Even_Numbers.reshape(4, 4)\n",
        "print(Y)\n",
        ""
      ]
    },
    {
      "cell_type": "code",
      "source": [
        "#TASK02\n",
        "import numpy as np\n",
        "A = np.arange(1, 26).reshape(5, 5)\n",
        "B = A[A % 2 != 0]\n",
        "\n",
        "print(A)\n",
        "print(B)\n",
        ""
      ],
      "metadata": {
        "colab": {
          "base_uri": "https://localhost:8080/"
        },
        "id": "vWL5z-yT1CHm",
        "outputId": "725c0a90-b55e-4d25-dd61-15a416915c11"
      },
      "execution_count": 6,
      "outputs": [
        {
          "output_type": "stream",
          "name": "stdout",
          "text": [
            "[[ 1  2  3  4  5]\n",
            " [ 6  7  8  9 10]\n",
            " [11 12 13 14 15]\n",
            " [16 17 18 19 20]\n",
            " [21 22 23 24 25]]\n",
            "[ 1  3  5  7  9 11 13 15 17 19 21 23 25]\n"
          ]
        }
      ]
    },
    {
      "cell_type": "code",
      "source": [
        "#TASK03\n",
        "import numpy as np\n",
        "Col_values = np.arange(1, 5).reshape(-1, 1)\n",
        "A = Col_values * np.ones((4, 4))\n",
        "print(A)"
      ],
      "metadata": {
        "colab": {
          "base_uri": "https://localhost:8080/"
        },
        "id": "MNLgmHL41NBH",
        "outputId": "5c403c88-3063-41c1-a376-409818a07cb1"
      },
      "execution_count": 9,
      "outputs": [
        {
          "output_type": "stream",
          "name": "stdout",
          "text": [
            "[[1. 1. 1. 1.]\n",
            " [2. 2. 2. 2.]\n",
            " [3. 3. 3. 3.]\n",
            " [4. 4. 4. 4.]]\n"
          ]
        }
      ]
    },
    {
      "cell_type": "code",
      "source": [
        "#TASK04\n",
        "from google.colab import drive\n",
        "drive.mount('/NumPy.ipnyb')\n",
        "\n",
        "import numpy as np\n",
        "\n",
        "# Create a 1000x20 ndarray with random integers in the range [0, 5001)\n",
        "X = np.random.randint(0, 5001, size=(1000, 20))\n",
        "# Print the shape of X\n",
        "print(X.shape)\n",
        "\n",
        "# Calculate the average of the values in each column of X\n",
        "ave_cols = np.mean(X, axis=0)\n",
        "\n",
        "# Calculate the standard deviation of the values in each column of X\n",
        "std_cols = np.std(X, axis=0)\n",
        "\n",
        "\n",
        "print(\"Shape of ave_cols:\", ave_cols.shape)\n",
        "print(\"Shape of std_cols:\", std_cols.shape)\n",
        "\n",
        "# Mean normalize X\n",
        "X_norm = (X - ave_cols) / std_cols\n",
        "\n",
        "print(\"Mean normalized X:\")\n",
        "print(X_norm)\n",
        "\n",
        "# Print the average of all the values of X_norm\n",
        "ave_all_values = np.mean(X_norm)\n",
        "print(\"Average of all values in X_norm:\", ave_all_values)\n",
        "\n",
        "# Print the average of the minimum value in each column of X_norm\n",
        "ave_min_values = np.mean(np.min(X_norm, axis=0))\n",
        "print(\"Average of minimum values in each column of X_norm:\", ave_min_values)\n",
        "\n",
        "# Print the average of the maximum value in each column of X_norm\n",
        "ave_max_values = np.mean(np.max(X_norm, axis=0))\n",
        "print(\"Average of maximum values in each column of X_norm:\", ave_max_values)\n",
        "\n",
        "# We create a random permutation of integers 0 to 4\n",
        "np.random.permutation(5)\n",
        "\n",
        "# Create a random permutation of row indices of X_norm\n",
        "row_indices = np.random.permutation(X_norm.shape[0])\n",
        "\n",
        "print(\"Random permutation of row indices:\", row_indices)\n",
        "\n",
        "# Define the ratios for training, cross-validation, and test sets\n",
        "train_ratio = 0.6\n",
        "cross_val_ratio = 0.2\n",
        "test_ratio = 0.2\n",
        "\n",
        "# Calculate the sizes of each set based on the ratios\n",
        "num_rows = X_norm.shape[0]\n",
        "num_train = int(train_ratio * num_rows)\n",
        "num_cross_val = int(cross_val_ratio * num_rows)\n",
        "num_test = int(test_ratio * num_rows)\n",
        "\n",
        "# Use row_indices to split the data into sets\n",
        "X_train = X_norm[row_indices[:num_train]]\n",
        "X_crossVal = X_norm[row_indices[num_train:num_train + num_cross_val]]\n",
        "X_test = X_norm[row_indices[num_train + num_cross_val:]]\n",
        "\n",
        "print(\"X_train shape:\", X_train.shape)\n",
        "print(\"X_crossVal shape:\", X_crossVal.shape)\n",
        "print(\"X_test shape:\", X_test.shape)"
      ],
      "metadata": {
        "colab": {
          "base_uri": "https://localhost:8080/"
        },
        "id": "uz0EA1se1OwX",
        "outputId": "d02e3261-4054-4f4c-fa78-78f286e42daa"
      },
      "execution_count": 11,
      "outputs": [
        {
          "output_type": "stream",
          "name": "stdout",
          "text": [
            "Mounted at /NumPy.ipnyb\n",
            "(1000, 20)\n",
            "Shape of ave_cols: (20,)\n",
            "Shape of std_cols: (20,)\n",
            "Mean normalized X:\n",
            "[[-1.06986311  1.3885015  -0.1324727  ... -0.88381175 -0.75916715\n",
            "  -0.22035062]\n",
            " [-1.24893056  0.89443098 -0.28731894 ...  1.02273825  1.58109344\n",
            "  -1.65180512]\n",
            " [-0.41237116  1.40695227 -1.31729163 ... -1.70150212  1.2118692\n",
            "   1.27218114]\n",
            " ...\n",
            " [-0.38298223 -1.15428747  0.24798659 ... -1.23932931 -1.16634902\n",
            "   1.56071856]\n",
            " [-1.19151962  1.58189287  0.81622323 ...  0.25802697  1.14147504\n",
            "  -1.22215816]\n",
            " [ 0.39206546  0.85137919  0.93043108 ...  1.245111    1.55762872\n",
            "  -1.43768368]]\n",
            "Average of all values in X_norm: -1.2789769243681803e-17\n",
            "Average of minimum values in each column of X_norm: -1.744410093559311\n",
            "Average of maximum values in each column of X_norm: 1.725759686092747\n",
            "Random permutation of row indices: [941 926 413 827 842 110  16 730 530 283 756 962 921 484  58 449 187 689\n",
            "  36 152 305 102 170 256 516 363 460 326  38 307 602 440 587 687 309 566\n",
            " 666 552 855 246  18 368 902 923 290 982 154 179 916 594  56 579 621  59\n",
            " 955 137 323 764 711 205 372  78 390 106 302 803 364 513 159 705 399 280\n",
            " 258 303 986 899 502 656  26  47 103 604 157 133 514   8 667 306  24 709\n",
            " 287 114 521 821 683 851 244 603 727 650 610 598 627 388 947 633 772 410\n",
            " 189 886 225 486 300 563 665 918  25 545 136 737 989 871 200 291  64 907\n",
            " 219 421 780 365 809 226 529 815 850 911 448 645  84 717 748 719 663 880\n",
            " 933 969 161 805 314 929 938 898 824 478 830 511 944 708 583 632 508 746\n",
            " 541 140 651 607 500 625 740 461 233 328 928 581 684 725 678 199  30 849\n",
            " 443 353 574 257 791 983 697 554 535 908 216 515 774 679 507  23  29 629\n",
            "   6 686 370 648 395 268 952 936 278 491 243  21 963 618 262 416 130 245\n",
            " 177 171 624 778  96 647 542 597 249  49 762 634  73 446 430 696 966 601\n",
            " 798 885  92 151 847 691 193 185 351 961 909 129 546 736 834 649 814 218\n",
            " 954 582 548 856 822 270 121 120 754 222 590 344 559 857 958 699 373 348\n",
            " 622 520 840 498 412 524 914 241 126 753 957 553 234 571 327  51 319 355\n",
            " 779  68 123 757 845 698 640 377 499 619 195 163 718 467 707 155 463 549\n",
            " 752 692  12 453 985 107 591 606 304 997 951 396 320 497 459 101 209 294\n",
            " 312 782 350 967 749 605  89 393 389 889 145 422 996  99 537 406  74 111\n",
            " 664 860 231 912 874 418 599 217  79 384 469  69 296 357 620 281 349 557\n",
            " 237 712 493 315 570 174 873 838  27 804 408 340 471 777 735 175 950  71\n",
            " 593 695 568 139 447 186 614 452 913 887 630 639 577 674 714 866 494 635\n",
            " 347 920 250 903 255 118 125 980 308   0 532 313 968 949 378 662 104 612\n",
            " 274 334 354 893 165 331 361 685 214 223  72 424 359 188 428 751 445 224\n",
            " 560 266 807 642 196 681 723 394 276 142 904 517 999 346 146 728 392 112\n",
            " 415  13 915 690 588 172 409 808 492 438 464 869 374 768  54 420 536 375\n",
            " 277 797 337 800 844 628 457 823 238 335 773 271 168 660  85 930 454  91\n",
            " 917 940 739 164 701 366 868 924 128 584 292 661  86 673 358 173 295 131\n",
            " 210 694 325 883 109 367 828 580 202 203 987 338 141 503 386  82  40 265\n",
            " 788  97 543 213 531 565 555 785 232 832 505 253 592 122 884  93 783 872\n",
            "  41 528 411 108 167 466 978 576 738 144 846 878  61 254 836 854  77 204\n",
            " 191 669 935 311 506 538 269 745 811 895 383 877 147 360 468 998 901 479\n",
            " 861 879 342 562 750 240 910 158 875  52 272  98 322 318 385 922  46 401\n",
            " 178 427 539 793 670 862 426 143 596 286 252 336 876 261 715 891 870 273\n",
            " 435 702 759 932 444 455 391 852 201 482 747   7 654 882 888 166  60 473\n",
            " 235 704 397 282 729  57 212  32 789 558 512  14 682 616 713 475 211 942\n",
            " 706  43 556 333 275 113 609 431   1 776 456 248 959  10 865 160 931 572\n",
            " 896 534 637 330 965 533 398 264 820 472 194  15 436 858 414 977 767 970\n",
            " 657 819 417 117 721 279 259 658 477 841 979 953 981 786 795 433 382 781\n",
            " 881 890  34 263 181  50 760 993 156 626 437 631  80 376 544 813 115 362\n",
            " 451  76 964  65 794 182 937 863 806 638 317   9 239 905 984 220 892 402\n",
            " 671 864 755 611 595 792 138 298 429 569 812 293 659 971 839 380 732   3\n",
            "  48 339 519 693 567 352 423 623 228 525 802  83 526 425 758 124 489 837\n",
            " 207 407 867 341 744 221 613 483 509  67 636 496  28 796 946 975 501 215\n",
            " 190 641 934  63 288 343 897 329 990 550  11 906 573  44 894 817 578 135\n",
            " 299 677 646  31 771  81 675 831 321 465 522 973  37 668 859 432 586  53\n",
            " 742 589 741 301 833 790 784  35 564 972  45  20  42 710 149 948 381 765\n",
            "  70 132 481 960 474 487 441 504 825 247 369 956 761 561 703 150  87 227\n",
            " 575 176 720 995 197   4 769 450 332 310 829 927 992 316 731 976 653 848\n",
            " 600   2 523 900  39 267 162 733 153 324  19 403 801 356 540 405 371 434\n",
            " 672 470 439 510 810 297 608 488 652 734 843 527 490 826 676 379 458 495\n",
            " 230 974 184 925 775 835 722 242 945 105 208   5  22 688 766 787 419 716\n",
            " 680 476 726  95 198 183 251 919 229 127 400 939 643  17 724  94 134 192\n",
            "  55 799 763 148 387 462 988 442 404 991 345 816 119  62 743 943 289 180\n",
            " 518 615 770 700 485 644 260 853 655 585 551  75  66 116 100 169 284 285\n",
            " 236 480  33 994 818  90 547  88 206 617]\n",
            "X_train shape: (600, 20)\n",
            "X_crossVal shape: (200, 20)\n",
            "X_test shape: (200, 20)\n"
          ]
        }
      ]
    }
  ]
}